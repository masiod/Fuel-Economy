{
 "cells": [
  {
   "cell_type": "markdown",
   "id": "6c3a0d81-c5bb-493f-8c39-0a3afeaa1a76",
   "metadata": {},
   "source": [
    "# Pandas Explode\n",
    "You may find yourself with a dataset that contains a list of values in a single column. But what you really want is to bring the values from the list into many rows or many columns. So, how do you do that? Using the pandas `.explode()` method and others give you the tools to perform this. For more in depth information about it, you can find it [here](https://pandas.pydata.org/docs/reference/api/pandas.DataFrame.explode.html).  \n",
    "\n",
    "Let's practice the different ways we can using `explode`."
   ]
  },
  {
   "cell_type": "code",
   "execution_count": 1,
   "id": "2bae4b98-b97d-41d3-b451-b5819b847193",
   "metadata": {
    "tags": []
   },
   "outputs": [],
   "source": [
    "import numpy as np\n",
    "import pandas as pd"
   ]
  },
  {
   "cell_type": "code",
   "execution_count": 2,
   "id": "bfadfbcc-bc8c-4390-a746-ab5782a9b49e",
   "metadata": {
    "tags": []
   },
   "outputs": [
    {
     "data": {
      "text/plain": [
       "array([[0.9 , 0.5 , 0.43, 0.72, 0.33],\n",
       "       [0.17, 0.75, 0.8 , 0.81, 0.88],\n",
       "       [0.83, 0.02, 0.97, 0.64, 0.38],\n",
       "       [0.25, 0.73, 0.6 , 0.24, 0.77],\n",
       "       [0.64, 0.16, 0.74, 0.43, 0.94],\n",
       "       [0.51, 0.03, 0.33, 0.5 , 0.13],\n",
       "       [0.6 , 0.98, 0.87, 0.22, 0.23],\n",
       "       [0.26, 0.01, 0.84, 0.61, 0.46],\n",
       "       [0.04, 0.18, 0.18, 0.9 , 0.96],\n",
       "       [0.22, 0.81, 0.32, 0.6 , 0.83],\n",
       "       [0.56, 0.09, 0.02, 0.19, 0.28],\n",
       "       [0.4 , 0.08, 0.53, 0.29, 0.42],\n",
       "       [0.41, 0.73, 0.55, 0.68, 0.09],\n",
       "       [0.83, 0.11, 0.4 , 0.48, 0.33],\n",
       "       [0.1 , 0.59, 0.95, 0.36, 0.75],\n",
       "       [0.23, 0.37, 0.08, 0.23, 0.99],\n",
       "       [0.53, 0.61, 0.46, 0.78, 0.16],\n",
       "       [0.62, 0.35, 0.72, 0.29, 0.99],\n",
       "       [0.64, 0.04, 0.42, 0.64, 0.05],\n",
       "       [0.32, 0.51, 0.3 , 0.9 , 0.54],\n",
       "       [0.2 , 0.19, 0.69, 0.41, 0.12],\n",
       "       [0.41, 0.01, 0.49, 0.16, 0.88],\n",
       "       [0.44, 0.03, 0.93, 0.95, 0.01],\n",
       "       [0.1 , 0.58, 0.47, 0.  , 0.83],\n",
       "       [0.38, 0.16, 0.62, 0.89, 0.6 ]])"
      ]
     },
     "execution_count": 2,
     "metadata": {},
     "output_type": "execute_result"
    }
   ],
   "source": [
    "# Create a random array\n",
    "array = np.random.rand(25, 5).round(decimals=2)\n",
    "array"
   ]
  },
  {
   "cell_type": "markdown",
   "id": "f55688dd-ad30-424d-8934-94c89d334a2d",
   "metadata": {},
   "source": [
    "## Explode a list of values into rows"
   ]
  },
  {
   "cell_type": "code",
   "execution_count": 3,
   "id": "8e7e5920-1dba-4524-9f9c-829e07aa28fe",
   "metadata": {
    "tags": []
   },
   "outputs": [
    {
     "data": {
      "text/html": [
       "<div>\n",
       "<style scoped>\n",
       "    .dataframe tbody tr th:only-of-type {\n",
       "        vertical-align: middle;\n",
       "    }\n",
       "\n",
       "    .dataframe tbody tr th {\n",
       "        vertical-align: top;\n",
       "    }\n",
       "\n",
       "    .dataframe thead th {\n",
       "        text-align: right;\n",
       "    }\n",
       "</style>\n",
       "<table border=\"1\" class=\"dataframe\">\n",
       "  <thead>\n",
       "    <tr style=\"text-align: right;\">\n",
       "      <th></th>\n",
       "      <th>list_values</th>\n",
       "    </tr>\n",
       "  </thead>\n",
       "  <tbody>\n",
       "    <tr>\n",
       "      <th>0</th>\n",
       "      <td>[0.9, 0.5, 0.43, 0.72, 0.33]</td>\n",
       "    </tr>\n",
       "    <tr>\n",
       "      <th>1</th>\n",
       "      <td>[0.17, 0.75, 0.8, 0.81, 0.88]</td>\n",
       "    </tr>\n",
       "    <tr>\n",
       "      <th>2</th>\n",
       "      <td>[0.83, 0.02, 0.97, 0.64, 0.38]</td>\n",
       "    </tr>\n",
       "    <tr>\n",
       "      <th>3</th>\n",
       "      <td>[0.25, 0.73, 0.6, 0.24, 0.77]</td>\n",
       "    </tr>\n",
       "    <tr>\n",
       "      <th>4</th>\n",
       "      <td>[0.64, 0.16, 0.74, 0.43, 0.94]</td>\n",
       "    </tr>\n",
       "  </tbody>\n",
       "</table>\n",
       "</div>"
      ],
      "text/plain": [
       "                      list_values\n",
       "0    [0.9, 0.5, 0.43, 0.72, 0.33]\n",
       "1   [0.17, 0.75, 0.8, 0.81, 0.88]\n",
       "2  [0.83, 0.02, 0.97, 0.64, 0.38]\n",
       "3   [0.25, 0.73, 0.6, 0.24, 0.77]\n",
       "4  [0.64, 0.16, 0.74, 0.43, 0.94]"
      ]
     },
     "execution_count": 3,
     "metadata": {},
     "output_type": "execute_result"
    }
   ],
   "source": [
    "# create dataframe with single column\n",
    "df = pd.DataFrame({\"list_values\": array.tolist()})\n",
    "df.head()"
   ]
  },
  {
   "cell_type": "code",
   "execution_count": 4,
   "id": "fde9f073-c8f5-4477-94ea-55afec8b96b0",
   "metadata": {
    "tags": []
   },
   "outputs": [
    {
     "name": "stdout",
     "output_type": "stream",
     "text": [
      "<class 'pandas.core.frame.DataFrame'>\n",
      "RangeIndex: 25 entries, 0 to 24\n",
      "Data columns (total 1 columns):\n",
      " #   Column       Non-Null Count  Dtype \n",
      "---  ------       --------------  ----- \n",
      " 0   list_values  25 non-null     object\n",
      "dtypes: object(1)\n",
      "memory usage: 328.0+ bytes\n"
     ]
    }
   ],
   "source": [
    "df.info()"
   ]
  },
  {
   "cell_type": "code",
   "execution_count": 7,
   "id": "e134d16d-5340-455d-a5ed-943d2a78b366",
   "metadata": {
    "tags": []
   },
   "outputs": [
    {
     "data": {
      "text/plain": [
       "list"
      ]
     },
     "execution_count": 7,
     "metadata": {},
     "output_type": "execute_result"
    }
   ],
   "source": [
    "# each value is a list\n",
    "type(df.iloc[0][0])"
   ]
  },
  {
   "cell_type": "code",
   "execution_count": 8,
   "id": "c9f16694-385a-4bc6-b734-0472f5fc9856",
   "metadata": {
    "tags": []
   },
   "outputs": [
    {
     "data": {
      "text/html": [
       "<div>\n",
       "<style scoped>\n",
       "    .dataframe tbody tr th:only-of-type {\n",
       "        vertical-align: middle;\n",
       "    }\n",
       "\n",
       "    .dataframe tbody tr th {\n",
       "        vertical-align: top;\n",
       "    }\n",
       "\n",
       "    .dataframe thead th {\n",
       "        text-align: right;\n",
       "    }\n",
       "</style>\n",
       "<table border=\"1\" class=\"dataframe\">\n",
       "  <thead>\n",
       "    <tr style=\"text-align: right;\">\n",
       "      <th></th>\n",
       "      <th>list_values</th>\n",
       "    </tr>\n",
       "  </thead>\n",
       "  <tbody>\n",
       "    <tr>\n",
       "      <th>0</th>\n",
       "      <td>0.9</td>\n",
       "    </tr>\n",
       "    <tr>\n",
       "      <th>0</th>\n",
       "      <td>0.5</td>\n",
       "    </tr>\n",
       "    <tr>\n",
       "      <th>0</th>\n",
       "      <td>0.43</td>\n",
       "    </tr>\n",
       "    <tr>\n",
       "      <th>0</th>\n",
       "      <td>0.72</td>\n",
       "    </tr>\n",
       "    <tr>\n",
       "      <th>0</th>\n",
       "      <td>0.33</td>\n",
       "    </tr>\n",
       "    <tr>\n",
       "      <th>...</th>\n",
       "      <td>...</td>\n",
       "    </tr>\n",
       "    <tr>\n",
       "      <th>24</th>\n",
       "      <td>0.38</td>\n",
       "    </tr>\n",
       "    <tr>\n",
       "      <th>24</th>\n",
       "      <td>0.16</td>\n",
       "    </tr>\n",
       "    <tr>\n",
       "      <th>24</th>\n",
       "      <td>0.62</td>\n",
       "    </tr>\n",
       "    <tr>\n",
       "      <th>24</th>\n",
       "      <td>0.89</td>\n",
       "    </tr>\n",
       "    <tr>\n",
       "      <th>24</th>\n",
       "      <td>0.6</td>\n",
       "    </tr>\n",
       "  </tbody>\n",
       "</table>\n",
       "<p>125 rows × 1 columns</p>\n",
       "</div>"
      ],
      "text/plain": [
       "   list_values\n",
       "0          0.9\n",
       "0          0.5\n",
       "0         0.43\n",
       "0         0.72\n",
       "0         0.33\n",
       "..         ...\n",
       "24        0.38\n",
       "24        0.16\n",
       "24        0.62\n",
       "24        0.89\n",
       "24         0.6\n",
       "\n",
       "[125 rows x 1 columns]"
      ]
     },
     "execution_count": 8,
     "metadata": {},
     "output_type": "execute_result"
    }
   ],
   "source": [
    "# separate list into row with replicating index values\n",
    "df.explode(column=\"list_values\")"
   ]
  },
  {
   "cell_type": "markdown",
   "id": "b85044a1-479a-4d4e-a262-5f0f23906900",
   "metadata": {},
   "source": [
    "## Explode a list of values into columns"
   ]
  },
  {
   "cell_type": "code",
   "execution_count": 12,
   "id": "ae024a5b-1fb1-4dcb-8420-130234e8cd54",
   "metadata": {
    "tags": []
   },
   "outputs": [
    {
     "data": {
      "text/html": [
       "<div>\n",
       "<style scoped>\n",
       "    .dataframe tbody tr th:only-of-type {\n",
       "        vertical-align: middle;\n",
       "    }\n",
       "\n",
       "    .dataframe tbody tr th {\n",
       "        vertical-align: top;\n",
       "    }\n",
       "\n",
       "    .dataframe thead th {\n",
       "        text-align: right;\n",
       "    }\n",
       "</style>\n",
       "<table border=\"1\" class=\"dataframe\">\n",
       "  <thead>\n",
       "    <tr style=\"text-align: right;\">\n",
       "      <th></th>\n",
       "      <th>0</th>\n",
       "      <th>1</th>\n",
       "      <th>2</th>\n",
       "      <th>3</th>\n",
       "      <th>4</th>\n",
       "    </tr>\n",
       "  </thead>\n",
       "  <tbody>\n",
       "    <tr>\n",
       "      <th>0</th>\n",
       "      <td>0.90</td>\n",
       "      <td>0.50</td>\n",
       "      <td>0.43</td>\n",
       "      <td>0.72</td>\n",
       "      <td>0.33</td>\n",
       "    </tr>\n",
       "    <tr>\n",
       "      <th>1</th>\n",
       "      <td>0.17</td>\n",
       "      <td>0.75</td>\n",
       "      <td>0.80</td>\n",
       "      <td>0.81</td>\n",
       "      <td>0.88</td>\n",
       "    </tr>\n",
       "    <tr>\n",
       "      <th>2</th>\n",
       "      <td>0.83</td>\n",
       "      <td>0.02</td>\n",
       "      <td>0.97</td>\n",
       "      <td>0.64</td>\n",
       "      <td>0.38</td>\n",
       "    </tr>\n",
       "    <tr>\n",
       "      <th>3</th>\n",
       "      <td>0.25</td>\n",
       "      <td>0.73</td>\n",
       "      <td>0.60</td>\n",
       "      <td>0.24</td>\n",
       "      <td>0.77</td>\n",
       "    </tr>\n",
       "    <tr>\n",
       "      <th>4</th>\n",
       "      <td>0.64</td>\n",
       "      <td>0.16</td>\n",
       "      <td>0.74</td>\n",
       "      <td>0.43</td>\n",
       "      <td>0.94</td>\n",
       "    </tr>\n",
       "  </tbody>\n",
       "</table>\n",
       "</div>"
      ],
      "text/plain": [
       "      0     1     2     3     4\n",
       "0  0.90  0.50  0.43  0.72  0.33\n",
       "1  0.17  0.75  0.80  0.81  0.88\n",
       "2  0.83  0.02  0.97  0.64  0.38\n",
       "3  0.25  0.73  0.60  0.24  0.77\n",
       "4  0.64  0.16  0.74  0.43  0.94"
      ]
     },
     "execution_count": 12,
     "metadata": {},
     "output_type": "execute_result"
    }
   ],
   "source": [
    "# separate list into column by column\n",
    "#there is three or more functions here *\n",
    "pd.DataFrame(df.list_values.values.tolist()).head()"
   ]
  },
  {
   "cell_type": "code",
   "execution_count": 13,
   "id": "d2cb826d",
   "metadata": {},
   "outputs": [
    {
     "name": "stdout",
     "output_type": "stream",
     "text": [
      "<class 'pandas.core.frame.DataFrame'>\n",
      "RangeIndex: 25 entries, 0 to 24\n",
      "Data columns (total 5 columns):\n",
      " #   Column  Non-Null Count  Dtype  \n",
      "---  ------  --------------  -----  \n",
      " 0   0       25 non-null     float64\n",
      " 1   1       25 non-null     float64\n",
      " 2   2       25 non-null     float64\n",
      " 3   3       25 non-null     float64\n",
      " 4   4       25 non-null     float64\n",
      "dtypes: float64(5)\n",
      "memory usage: 1.1 KB\n"
     ]
    }
   ],
   "source": [
    "pd.DataFrame(df.list_values.values.tolist()).info()"
   ]
  },
  {
   "cell_type": "markdown",
   "id": "b903a219-d2e1-4ac4-8f70-124bdc84ba13",
   "metadata": {},
   "source": [
    "## Explode a string representation of a list into columns"
   ]
  },
  {
   "cell_type": "code",
   "execution_count": 14,
   "id": "47645400-ea21-4e5f-aa20-fecbf0395c80",
   "metadata": {
    "tags": []
   },
   "outputs": [
    {
     "data": {
      "text/html": [
       "<div>\n",
       "<style scoped>\n",
       "    .dataframe tbody tr th:only-of-type {\n",
       "        vertical-align: middle;\n",
       "    }\n",
       "\n",
       "    .dataframe tbody tr th {\n",
       "        vertical-align: top;\n",
       "    }\n",
       "\n",
       "    .dataframe thead th {\n",
       "        text-align: right;\n",
       "    }\n",
       "</style>\n",
       "<table border=\"1\" class=\"dataframe\">\n",
       "  <thead>\n",
       "    <tr style=\"text-align: right;\">\n",
       "      <th></th>\n",
       "      <th>list_values</th>\n",
       "    </tr>\n",
       "  </thead>\n",
       "  <tbody>\n",
       "    <tr>\n",
       "      <th>0</th>\n",
       "      <td>[0.9, 0.5, 0.43, 0.72, 0.33]</td>\n",
       "    </tr>\n",
       "    <tr>\n",
       "      <th>1</th>\n",
       "      <td>[0.17, 0.75, 0.8, 0.81, 0.88]</td>\n",
       "    </tr>\n",
       "    <tr>\n",
       "      <th>2</th>\n",
       "      <td>[0.83, 0.02, 0.97, 0.64, 0.38]</td>\n",
       "    </tr>\n",
       "    <tr>\n",
       "      <th>3</th>\n",
       "      <td>[0.25, 0.73, 0.6, 0.24, 0.77]</td>\n",
       "    </tr>\n",
       "    <tr>\n",
       "      <th>4</th>\n",
       "      <td>[0.64, 0.16, 0.74, 0.43, 0.94]</td>\n",
       "    </tr>\n",
       "  </tbody>\n",
       "</table>\n",
       "</div>"
      ],
      "text/plain": [
       "                      list_values\n",
       "0    [0.9, 0.5, 0.43, 0.72, 0.33]\n",
       "1   [0.17, 0.75, 0.8, 0.81, 0.88]\n",
       "2  [0.83, 0.02, 0.97, 0.64, 0.38]\n",
       "3   [0.25, 0.73, 0.6, 0.24, 0.77]\n",
       "4  [0.64, 0.16, 0.74, 0.43, 0.94]"
      ]
     },
     "execution_count": 14,
     "metadata": {},
     "output_type": "execute_result"
    }
   ],
   "source": [
    "# now each list is a actually a list of values for each row\n",
    "df_str = pd.DataFrame({\"list_values\": [str(a) for a in array.tolist()]})\n",
    "df_str.head()"
   ]
  },
  {
   "cell_type": "code",
   "execution_count": 16,
   "id": "23212237-906f-469a-a58b-ff9537837691",
   "metadata": {
    "tags": []
   },
   "outputs": [
    {
     "data": {
      "text/plain": [
       "str"
      ]
     },
     "execution_count": 16,
     "metadata": {},
     "output_type": "execute_result"
    }
   ],
   "source": [
    "# each value is a str\n",
    "type(df_str.iloc[0][0])"
   ]
  },
  {
   "cell_type": "code",
   "execution_count": 17,
   "id": "92a45103-2de4-4a4f-a0af-a4d9258805c6",
   "metadata": {
    "tags": []
   },
   "outputs": [
    {
     "data": {
      "text/html": [
       "<div>\n",
       "<style scoped>\n",
       "    .dataframe tbody tr th:only-of-type {\n",
       "        vertical-align: middle;\n",
       "    }\n",
       "\n",
       "    .dataframe tbody tr th {\n",
       "        vertical-align: top;\n",
       "    }\n",
       "\n",
       "    .dataframe thead th {\n",
       "        text-align: right;\n",
       "    }\n",
       "</style>\n",
       "<table border=\"1\" class=\"dataframe\">\n",
       "  <thead>\n",
       "    <tr style=\"text-align: right;\">\n",
       "      <th></th>\n",
       "      <th>0</th>\n",
       "    </tr>\n",
       "  </thead>\n",
       "  <tbody>\n",
       "    <tr>\n",
       "      <th>0</th>\n",
       "      <td>[0.9, 0.5, 0.43, 0.72, 0.33]</td>\n",
       "    </tr>\n",
       "    <tr>\n",
       "      <th>1</th>\n",
       "      <td>[0.17, 0.75, 0.8, 0.81, 0.88]</td>\n",
       "    </tr>\n",
       "    <tr>\n",
       "      <th>2</th>\n",
       "      <td>[0.83, 0.02, 0.97, 0.64, 0.38]</td>\n",
       "    </tr>\n",
       "    <tr>\n",
       "      <th>3</th>\n",
       "      <td>[0.25, 0.73, 0.6, 0.24, 0.77]</td>\n",
       "    </tr>\n",
       "    <tr>\n",
       "      <th>4</th>\n",
       "      <td>[0.64, 0.16, 0.74, 0.43, 0.94]</td>\n",
       "    </tr>\n",
       "  </tbody>\n",
       "</table>\n",
       "</div>"
      ],
      "text/plain": [
       "                                0\n",
       "0    [0.9, 0.5, 0.43, 0.72, 0.33]\n",
       "1   [0.17, 0.75, 0.8, 0.81, 0.88]\n",
       "2  [0.83, 0.02, 0.97, 0.64, 0.38]\n",
       "3   [0.25, 0.73, 0.6, 0.24, 0.77]\n",
       "4  [0.64, 0.16, 0.74, 0.43, 0.94]"
      ]
     },
     "execution_count": 17,
     "metadata": {},
     "output_type": "execute_result"
    }
   ],
   "source": [
    "# This does not work as expected\n",
    "pd.DataFrame(df_str.list_values.values.tolist()).head()"
   ]
  },
  {
   "cell_type": "code",
   "execution_count": 18,
   "id": "22fd6dbc-7fad-42b8-9e0d-373eaef7e93f",
   "metadata": {
    "tags": []
   },
   "outputs": [
    {
     "data": {
      "text/html": [
       "<div>\n",
       "<style scoped>\n",
       "    .dataframe tbody tr th:only-of-type {\n",
       "        vertical-align: middle;\n",
       "    }\n",
       "\n",
       "    .dataframe tbody tr th {\n",
       "        vertical-align: top;\n",
       "    }\n",
       "\n",
       "    .dataframe thead th {\n",
       "        text-align: right;\n",
       "    }\n",
       "</style>\n",
       "<table border=\"1\" class=\"dataframe\">\n",
       "  <thead>\n",
       "    <tr style=\"text-align: right;\">\n",
       "      <th></th>\n",
       "      <th>0</th>\n",
       "      <th>1</th>\n",
       "      <th>2</th>\n",
       "      <th>3</th>\n",
       "      <th>4</th>\n",
       "    </tr>\n",
       "  </thead>\n",
       "  <tbody>\n",
       "    <tr>\n",
       "      <th>0</th>\n",
       "      <td>0.90</td>\n",
       "      <td>0.50</td>\n",
       "      <td>0.43</td>\n",
       "      <td>0.72</td>\n",
       "      <td>0.33</td>\n",
       "    </tr>\n",
       "    <tr>\n",
       "      <th>1</th>\n",
       "      <td>0.17</td>\n",
       "      <td>0.75</td>\n",
       "      <td>0.80</td>\n",
       "      <td>0.81</td>\n",
       "      <td>0.88</td>\n",
       "    </tr>\n",
       "    <tr>\n",
       "      <th>2</th>\n",
       "      <td>0.83</td>\n",
       "      <td>0.02</td>\n",
       "      <td>0.97</td>\n",
       "      <td>0.64</td>\n",
       "      <td>0.38</td>\n",
       "    </tr>\n",
       "    <tr>\n",
       "      <th>3</th>\n",
       "      <td>0.25</td>\n",
       "      <td>0.73</td>\n",
       "      <td>0.60</td>\n",
       "      <td>0.24</td>\n",
       "      <td>0.77</td>\n",
       "    </tr>\n",
       "    <tr>\n",
       "      <th>4</th>\n",
       "      <td>0.64</td>\n",
       "      <td>0.16</td>\n",
       "      <td>0.74</td>\n",
       "      <td>0.43</td>\n",
       "      <td>0.94</td>\n",
       "    </tr>\n",
       "  </tbody>\n",
       "</table>\n",
       "</div>"
      ],
      "text/plain": [
       "      0     1     2     3     4\n",
       "0  0.90  0.50  0.43  0.72  0.33\n",
       "1  0.17  0.75  0.80  0.81  0.88\n",
       "2  0.83  0.02  0.97  0.64  0.38\n",
       "3  0.25  0.73  0.60  0.24  0.77\n",
       "4  0.64  0.16  0.74  0.43  0.94"
      ]
     },
     "execution_count": 18,
     "metadata": {},
     "output_type": "execute_result"
    }
   ],
   "source": [
    "# One option is to evaluate each string as a list, then proceed as usual\n",
    "# 'eval' parses and evaluates the string of a list as a python expression\n",
    "# turning it back into a list\n",
    "pd.DataFrame(df_str.list_values.apply(lambda u: eval(u)).values.tolist()).head()"
   ]
  },
  {
   "cell_type": "code",
   "execution_count": null,
   "id": "f3c1d448",
   "metadata": {},
   "outputs": [],
   "source": []
  }
 ],
 "metadata": {
  "kernelspec": {
   "display_name": "Python 3 (ipykernel)",
   "language": "python",
   "name": "python3"
  },
  "language_info": {
   "codemirror_mode": {
    "name": "ipython",
    "version": 3
   },
   "file_extension": ".py",
   "mimetype": "text/x-python",
   "name": "python",
   "nbconvert_exporter": "python",
   "pygments_lexer": "ipython3",
   "version": "3.10.10"
  }
 },
 "nbformat": 4,
 "nbformat_minor": 5
}
