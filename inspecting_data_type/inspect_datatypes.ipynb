{
 "cells": [
  {
   "cell_type": "markdown",
   "metadata": {},
   "source": [
    "# Inspecting Data Types\n",
    "Use the space below to explore `data_08_v3.csv` and `data_18_v3.csv` to answer the quiz questions below regarding datatypes. You should've created these data files in the previous section: *Filter, Drop Nulls, Dedupe*.\n",
    "\n",
    "Hint: Use `.unique()` for the columns in question to get a better understanding of what values are present. Read more [here](https://pandas.pydata.org/docs/reference/api/pandas.Series.unique.html#)."
   ]
  },
  {
   "cell_type": "code",
   "execution_count": 243,
   "metadata": {
    "tags": []
   },
   "outputs": [],
   "source": [
    "# import pandas and read the two data csvs\n",
    "import pandas as pd\n",
    "\n",
    "fuel_08_df =pd.read_csv('./data_08_v3.csv')\n",
    "fuel_18_df =pd.read_csv('./data_18_v3.csv')"
   ]
  },
  {
   "cell_type": "code",
   "execution_count": 244,
   "metadata": {
    "tags": []
   },
   "outputs": [
    {
     "name": "stdout",
     "output_type": "stream",
     "text": [
      "<class 'pandas.core.frame.DataFrame'>\n",
      "RangeIndex: 986 entries, 0 to 985\n",
      "Data columns (total 13 columns):\n",
      " #   Column                Non-Null Count  Dtype  \n",
      "---  ------                --------------  -----  \n",
      " 0   model                 986 non-null    object \n",
      " 1   displ                 986 non-null    float64\n",
      " 2   cyl                   986 non-null    object \n",
      " 3   trans                 986 non-null    object \n",
      " 4   drive                 986 non-null    object \n",
      " 5   fuel                  986 non-null    object \n",
      " 6   veh_class             986 non-null    object \n",
      " 7   air_pollution_score   986 non-null    object \n",
      " 8   city_mpg              986 non-null    object \n",
      " 9   hwy_mpg               986 non-null    object \n",
      " 10  cmb_mpg               986 non-null    object \n",
      " 11  greenhouse_gas_score  986 non-null    object \n",
      " 12  smartway              986 non-null    object \n",
      "dtypes: float64(1), object(12)\n",
      "memory usage: 100.3+ KB\n"
     ]
    }
   ],
   "source": [
    "# Find the data types in fuel_08_df\n",
    "fuel_08_df.info()"
   ]
  },
  {
   "cell_type": "code",
   "execution_count": 245,
   "metadata": {},
   "outputs": [
    {
     "data": {
      "text/html": [
       "<div>\n",
       "<style scoped>\n",
       "    .dataframe tbody tr th:only-of-type {\n",
       "        vertical-align: middle;\n",
       "    }\n",
       "\n",
       "    .dataframe tbody tr th {\n",
       "        vertical-align: top;\n",
       "    }\n",
       "\n",
       "    .dataframe thead th {\n",
       "        text-align: right;\n",
       "    }\n",
       "</style>\n",
       "<table border=\"1\" class=\"dataframe\">\n",
       "  <thead>\n",
       "    <tr style=\"text-align: right;\">\n",
       "      <th></th>\n",
       "      <th>model</th>\n",
       "      <th>displ</th>\n",
       "      <th>cyl</th>\n",
       "      <th>trans</th>\n",
       "      <th>drive</th>\n",
       "      <th>fuel</th>\n",
       "      <th>veh_class</th>\n",
       "      <th>air_pollution_score</th>\n",
       "      <th>city_mpg</th>\n",
       "      <th>hwy_mpg</th>\n",
       "      <th>cmb_mpg</th>\n",
       "      <th>greenhouse_gas_score</th>\n",
       "      <th>smartway</th>\n",
       "    </tr>\n",
       "  </thead>\n",
       "  <tbody>\n",
       "    <tr>\n",
       "      <th>0</th>\n",
       "      <td>ACURA MDX</td>\n",
       "      <td>3.7</td>\n",
       "      <td>(6 cyl)</td>\n",
       "      <td>Auto-S5</td>\n",
       "      <td>4WD</td>\n",
       "      <td>Gasoline</td>\n",
       "      <td>SUV</td>\n",
       "      <td>7</td>\n",
       "      <td>15</td>\n",
       "      <td>20</td>\n",
       "      <td>17</td>\n",
       "      <td>4</td>\n",
       "      <td>no</td>\n",
       "    </tr>\n",
       "    <tr>\n",
       "      <th>1</th>\n",
       "      <td>ACURA RDX</td>\n",
       "      <td>2.3</td>\n",
       "      <td>(4 cyl)</td>\n",
       "      <td>Auto-S5</td>\n",
       "      <td>4WD</td>\n",
       "      <td>Gasoline</td>\n",
       "      <td>SUV</td>\n",
       "      <td>7</td>\n",
       "      <td>17</td>\n",
       "      <td>22</td>\n",
       "      <td>19</td>\n",
       "      <td>5</td>\n",
       "      <td>no</td>\n",
       "    </tr>\n",
       "    <tr>\n",
       "      <th>2</th>\n",
       "      <td>ACURA RL</td>\n",
       "      <td>3.5</td>\n",
       "      <td>(6 cyl)</td>\n",
       "      <td>Auto-S5</td>\n",
       "      <td>4WD</td>\n",
       "      <td>Gasoline</td>\n",
       "      <td>midsize car</td>\n",
       "      <td>7</td>\n",
       "      <td>16</td>\n",
       "      <td>24</td>\n",
       "      <td>19</td>\n",
       "      <td>5</td>\n",
       "      <td>no</td>\n",
       "    </tr>\n",
       "    <tr>\n",
       "      <th>3</th>\n",
       "      <td>ACURA TL</td>\n",
       "      <td>3.2</td>\n",
       "      <td>(6 cyl)</td>\n",
       "      <td>Auto-S5</td>\n",
       "      <td>2WD</td>\n",
       "      <td>Gasoline</td>\n",
       "      <td>midsize car</td>\n",
       "      <td>7</td>\n",
       "      <td>18</td>\n",
       "      <td>26</td>\n",
       "      <td>21</td>\n",
       "      <td>6</td>\n",
       "      <td>yes</td>\n",
       "    </tr>\n",
       "    <tr>\n",
       "      <th>4</th>\n",
       "      <td>ACURA TL</td>\n",
       "      <td>3.5</td>\n",
       "      <td>(6 cyl)</td>\n",
       "      <td>Auto-S5</td>\n",
       "      <td>2WD</td>\n",
       "      <td>Gasoline</td>\n",
       "      <td>midsize car</td>\n",
       "      <td>7</td>\n",
       "      <td>17</td>\n",
       "      <td>26</td>\n",
       "      <td>20</td>\n",
       "      <td>6</td>\n",
       "      <td>yes</td>\n",
       "    </tr>\n",
       "  </tbody>\n",
       "</table>\n",
       "</div>"
      ],
      "text/plain": [
       "       model  displ      cyl    trans drive      fuel    veh_class  \\\n",
       "0  ACURA MDX    3.7  (6 cyl)  Auto-S5   4WD  Gasoline          SUV   \n",
       "1  ACURA RDX    2.3  (4 cyl)  Auto-S5   4WD  Gasoline          SUV   \n",
       "2   ACURA RL    3.5  (6 cyl)  Auto-S5   4WD  Gasoline  midsize car   \n",
       "3   ACURA TL    3.2  (6 cyl)  Auto-S5   2WD  Gasoline  midsize car   \n",
       "4   ACURA TL    3.5  (6 cyl)  Auto-S5   2WD  Gasoline  midsize car   \n",
       "\n",
       "  air_pollution_score city_mpg hwy_mpg cmb_mpg greenhouse_gas_score smartway  \n",
       "0                   7       15      20      17                    4       no  \n",
       "1                   7       17      22      19                    5       no  \n",
       "2                   7       16      24      19                    5       no  \n",
       "3                   7       18      26      21                    6      yes  \n",
       "4                   7       17      26      20                    6      yes  "
      ]
     },
     "execution_count": 245,
     "metadata": {},
     "output_type": "execute_result"
    }
   ],
   "source": [
    "fuel_08_df.head()"
   ]
  },
  {
   "cell_type": "code",
   "execution_count": 246,
   "metadata": {
    "tags": []
   },
   "outputs": [
    {
     "name": "stdout",
     "output_type": "stream",
     "text": [
      "<class 'pandas.core.frame.DataFrame'>\n",
      "RangeIndex: 794 entries, 0 to 793\n",
      "Data columns (total 13 columns):\n",
      " #   Column                Non-Null Count  Dtype  \n",
      "---  ------                --------------  -----  \n",
      " 0   model                 794 non-null    object \n",
      " 1   displ                 794 non-null    float64\n",
      " 2   cyl                   794 non-null    float64\n",
      " 3   trans                 794 non-null    object \n",
      " 4   drive                 794 non-null    object \n",
      " 5   fuel                  794 non-null    object \n",
      " 6   veh_class             794 non-null    object \n",
      " 7   air_pollution_score   794 non-null    int64  \n",
      " 8   city_mpg              794 non-null    object \n",
      " 9   hwy_mpg               794 non-null    object \n",
      " 10  cmb_mpg               794 non-null    object \n",
      " 11  greenhouse_gas_score  794 non-null    int64  \n",
      " 12  smartway              794 non-null    object \n",
      "dtypes: float64(2), int64(2), object(9)\n",
      "memory usage: 80.8+ KB\n"
     ]
    }
   ],
   "source": [
    "# Find the data types in fuel_18_df\n",
    "fuel_18_df.info()"
   ]
  },
  {
   "cell_type": "code",
   "execution_count": 247,
   "metadata": {
    "scrolled": true
   },
   "outputs": [
    {
     "data": {
      "text/html": [
       "<div>\n",
       "<style scoped>\n",
       "    .dataframe tbody tr th:only-of-type {\n",
       "        vertical-align: middle;\n",
       "    }\n",
       "\n",
       "    .dataframe tbody tr th {\n",
       "        vertical-align: top;\n",
       "    }\n",
       "\n",
       "    .dataframe thead th {\n",
       "        text-align: right;\n",
       "    }\n",
       "</style>\n",
       "<table border=\"1\" class=\"dataframe\">\n",
       "  <thead>\n",
       "    <tr style=\"text-align: right;\">\n",
       "      <th></th>\n",
       "      <th>model</th>\n",
       "      <th>displ</th>\n",
       "      <th>cyl</th>\n",
       "      <th>trans</th>\n",
       "      <th>drive</th>\n",
       "      <th>fuel</th>\n",
       "      <th>veh_class</th>\n",
       "      <th>air_pollution_score</th>\n",
       "      <th>city_mpg</th>\n",
       "      <th>hwy_mpg</th>\n",
       "      <th>cmb_mpg</th>\n",
       "      <th>greenhouse_gas_score</th>\n",
       "      <th>smartway</th>\n",
       "    </tr>\n",
       "  </thead>\n",
       "  <tbody>\n",
       "    <tr>\n",
       "      <th>0</th>\n",
       "      <td>ACURA RDX</td>\n",
       "      <td>3.5</td>\n",
       "      <td>6.0</td>\n",
       "      <td>SemiAuto-6</td>\n",
       "      <td>2WD</td>\n",
       "      <td>Gasoline</td>\n",
       "      <td>small SUV</td>\n",
       "      <td>3</td>\n",
       "      <td>20</td>\n",
       "      <td>28</td>\n",
       "      <td>23</td>\n",
       "      <td>5</td>\n",
       "      <td>No</td>\n",
       "    </tr>\n",
       "    <tr>\n",
       "      <th>1</th>\n",
       "      <td>ACURA RDX</td>\n",
       "      <td>3.5</td>\n",
       "      <td>6.0</td>\n",
       "      <td>SemiAuto-6</td>\n",
       "      <td>4WD</td>\n",
       "      <td>Gasoline</td>\n",
       "      <td>small SUV</td>\n",
       "      <td>3</td>\n",
       "      <td>19</td>\n",
       "      <td>27</td>\n",
       "      <td>22</td>\n",
       "      <td>4</td>\n",
       "      <td>No</td>\n",
       "    </tr>\n",
       "    <tr>\n",
       "      <th>2</th>\n",
       "      <td>ACURA TLX</td>\n",
       "      <td>2.4</td>\n",
       "      <td>4.0</td>\n",
       "      <td>AMS-8</td>\n",
       "      <td>2WD</td>\n",
       "      <td>Gasoline</td>\n",
       "      <td>small car</td>\n",
       "      <td>3</td>\n",
       "      <td>23</td>\n",
       "      <td>33</td>\n",
       "      <td>27</td>\n",
       "      <td>6</td>\n",
       "      <td>No</td>\n",
       "    </tr>\n",
       "    <tr>\n",
       "      <th>3</th>\n",
       "      <td>ACURA TLX</td>\n",
       "      <td>3.5</td>\n",
       "      <td>6.0</td>\n",
       "      <td>SemiAuto-9</td>\n",
       "      <td>2WD</td>\n",
       "      <td>Gasoline</td>\n",
       "      <td>small car</td>\n",
       "      <td>3</td>\n",
       "      <td>20</td>\n",
       "      <td>32</td>\n",
       "      <td>24</td>\n",
       "      <td>5</td>\n",
       "      <td>No</td>\n",
       "    </tr>\n",
       "    <tr>\n",
       "      <th>4</th>\n",
       "      <td>ACURA TLX</td>\n",
       "      <td>3.5</td>\n",
       "      <td>6.0</td>\n",
       "      <td>SemiAuto-9</td>\n",
       "      <td>4WD</td>\n",
       "      <td>Gasoline</td>\n",
       "      <td>small car</td>\n",
       "      <td>3</td>\n",
       "      <td>21</td>\n",
       "      <td>30</td>\n",
       "      <td>24</td>\n",
       "      <td>5</td>\n",
       "      <td>No</td>\n",
       "    </tr>\n",
       "  </tbody>\n",
       "</table>\n",
       "</div>"
      ],
      "text/plain": [
       "       model  displ  cyl       trans drive      fuel  veh_class  \\\n",
       "0  ACURA RDX    3.5  6.0  SemiAuto-6   2WD  Gasoline  small SUV   \n",
       "1  ACURA RDX    3.5  6.0  SemiAuto-6   4WD  Gasoline  small SUV   \n",
       "2  ACURA TLX    2.4  4.0       AMS-8   2WD  Gasoline  small car   \n",
       "3  ACURA TLX    3.5  6.0  SemiAuto-9   2WD  Gasoline  small car   \n",
       "4  ACURA TLX    3.5  6.0  SemiAuto-9   4WD  Gasoline  small car   \n",
       "\n",
       "   air_pollution_score city_mpg hwy_mpg cmb_mpg  greenhouse_gas_score smartway  \n",
       "0                    3       20      28      23                     5       No  \n",
       "1                    3       19      27      22                     4       No  \n",
       "2                    3       23      33      27                     6       No  \n",
       "3                    3       20      32      24                     5       No  \n",
       "4                    3       21      30      24                     5       No  "
      ]
     },
     "execution_count": 247,
     "metadata": {},
     "output_type": "execute_result"
    }
   ],
   "source": [
    "fuel_18_df.head()"
   ]
  },
  {
   "cell_type": "markdown",
   "metadata": {},
   "source": [
    "\n",
    "#### What is different between the two datasets for the `cyl` column? What would you change?\n",
    "\n",
    "fuel_08_df['cyl'] == Object data type\n",
    "\n",
    "fuel_18_df['cyl'] == float data type \n",
    "\n",
    "we must change fuel_08_df['cyl'] to be float data type\n",
    "\n"
   ]
  },
  {
   "cell_type": "code",
   "execution_count": 248,
   "metadata": {
    "tags": []
   },
   "outputs": [
    {
     "data": {
      "text/plain": [
       "array([ 6,  4, 12,  8, 10, 16,  5,  2])"
      ]
     },
     "execution_count": 248,
     "metadata": {},
     "output_type": "execute_result"
    }
   ],
   "source": [
    "# Find the unique values in cyl for fuel_08_df\n",
    " \n",
    "\n",
    "fuel_08_df['cyl'] = fuel_08_df['cyl'].astype('str').str.extractall('(\\d+)').unstack().fillna('').sum(axis=1).astype(int)\n",
    "fuel_08_df['cyl'].unique()"
   ]
  },
  {
   "cell_type": "code",
   "execution_count": 249,
   "metadata": {
    "tags": []
   },
   "outputs": [
    {
     "data": {
      "text/plain": [
       "array([ 6,  4,  5, 12, 16,  8,  3], dtype=int64)"
      ]
     },
     "execution_count": 249,
     "metadata": {},
     "output_type": "execute_result"
    }
   ],
   "source": [
    "# Find the unique values in cyl for fuel_18_df\n",
    "fuel_18_df['cyl']=fuel_18_df['cyl'].astype('int64')\n",
    "fuel_18_df['cyl'].unique()"
   ]
  },
  {
   "cell_type": "markdown",
   "metadata": {},
   "source": [
    "Use the information from these cells to answer the first quiz question."
   ]
  },
  {
   "cell_type": "markdown",
   "metadata": {},
   "source": [
    "#### What is different between the two datasets for the `air_pollution_score` column? What would you change?\n",
    "\n",
    "fuel_08_df['air_pollution_score'] == Object data type\n",
    "\n",
    "fuel_18_df['air_pollution_score'] == int64 data type \n",
    "\n",
    "we must change fuel_08_df['air_pollution_score'] to be int64 data type\n"
   ]
  },
  {
   "cell_type": "code",
   "execution_count": 250,
   "metadata": {
    "tags": []
   },
   "outputs": [
    {
     "data": {
      "text/plain": [
       "array([7. , 6. , 9.5, 9. , 6.4])"
      ]
     },
     "execution_count": 250,
     "metadata": {},
     "output_type": "execute_result"
    }
   ],
   "source": [
    "# Find the unique values in air_pollution_score for fuel_08_df\n",
    "fuel_08_df['air_pollution_score']=fuel_08_df['air_pollution_score'].replace('/','.',regex=True).astype('float64')\n",
    "\n",
    "fuel_08_df['air_pollution_score'].unique()\n"
   ]
  },
  {
   "cell_type": "code",
   "execution_count": 251,
   "metadata": {
    "tags": []
   },
   "outputs": [
    {
     "data": {
      "text/plain": [
       "array([3., 1., 7., 5., 6.])"
      ]
     },
     "execution_count": 251,
     "metadata": {},
     "output_type": "execute_result"
    }
   ],
   "source": [
    "# Find the unique values in air_pollution_score for fuel_18_df\n",
    "fuel_18_df['air_pollution_score']=fuel_18_df['air_pollution_score'].astype('float64')\n",
    "fuel_18_df.air_pollution_score.unique()"
   ]
  },
  {
   "cell_type": "markdown",
   "metadata": {},
   "source": [
    "Use the information from these cells to answer the second quiz question."
   ]
  },
  {
   "cell_type": "markdown",
   "metadata": {},
   "source": [
    "#### Look at the data types for all of the `*_mpg` columns for both datasets. What type are they? What would you change?"
   ]
  },
  {
   "cell_type": "code",
   "execution_count": 252,
   "metadata": {
    "tags": []
   },
   "outputs": [
    {
     "data": {
      "text/plain": [
       "array([15.  , 17.  , 16.  , 18.  , 19.  , 20.  , 10.  , 11.  , 12.  ,\n",
       "       13.  , 21.  , 22.  , 14.  , 23.  ,  9.  ,  8.  , 24.  , 34.  ,\n",
       "       29.  , 25.  , 26.  , 40.  , 27.  , 28.  , 13.18, 35.  , 33.  ,\n",
       "       48.  ])"
      ]
     },
     "execution_count": 252,
     "metadata": {},
     "output_type": "execute_result"
    }
   ],
   "source": [
    "# Find the unique values in city_mpg for fuel_08_df to see an example of their data type\n",
    "fuel_08_df['city_mpg']=fuel_08_df['city_mpg'].replace('/','.',regex=True).astype('float64')\n",
    "fuel_08_df.city_mpg.unique()\n"
   ]
  },
  {
   "cell_type": "code",
   "execution_count": 253,
   "metadata": {
    "tags": []
   },
   "outputs": [
    {
     "data": {
      "text/plain": [
       "array([20.   , 19.   , 23.   , 21.   , 24.   , 17.   , 26.   , 22.   ,\n",
       "       25.   , 27.   , 12.   ,  9.   , 28.66 , 27.7  , 27.66 , 16.   ,\n",
       "       25.62 , 18.   , 14.   , 15.   , 13.   , 29.   , 31.   , 30.   ,\n",
       "       28.   , 14.18 , 49.   , 12.18 , 12.17 , 12.16 , 11.16 , 43.113,\n",
       "       14.19 , 13.18 , 43.102, 43.   , 33.   , 32.   , 15.21 , 14.21 ,\n",
       "       20.59 , 10.   , 17.24 , 17.23 , 28.63 , 37.   , 35.   , 40.   ,\n",
       "       51.   , 44.   , 48.   , 34.   ,  9.13 , 26.7  , 26.6  , 26.63 ])"
      ]
     },
     "execution_count": 253,
     "metadata": {},
     "output_type": "execute_result"
    }
   ],
   "source": [
    "# Find the unique values in city_mpg for fuel_18_df to see an example of their data type\n",
    "fuel_18_df['city_mpg']=fuel_18_df['city_mpg'].replace('/','.',regex=True).astype('float64')\n",
    "\n",
    "fuel_18_df.city_mpg.unique()"
   ]
  },
  {
   "cell_type": "markdown",
   "metadata": {},
   "source": [
    "Use the information from these cells to answer the third quiz question."
   ]
  },
  {
   "cell_type": "markdown",
   "metadata": {},
   "source": [
    "#### What is different between the two datasets for the `greenhouse_gas_score` column? What would you change?\n",
    "\n",
    "Note: according to the [EPA website](https://www.epa.gov/greenvehicles/greenhouse-gas-rating), greenhouse gas ratings should be integers."
   ]
  },
  {
   "cell_type": "code",
   "execution_count": 254,
   "metadata": {
    "tags": []
   },
   "outputs": [
    {
     "data": {
      "text/plain": [
       "array([ 4. ,  5. ,  6. ,  7. ,  0. ,  1. ,  3. ,  2. ,  8. ,  9. , 10. ,\n",
       "        7.6])"
      ]
     },
     "execution_count": 254,
     "metadata": {},
     "output_type": "execute_result"
    }
   ],
   "source": [
    "# Find the unique values in greenhouse_gas_score for fuel_08_df\n",
    "fuel_08_df['greenhouse_gas_score']=fuel_08_df['greenhouse_gas_score'].replace('/','.',regex=True).astype('float64')\n",
    "fuel_08_df.greenhouse_gas_score.unique()"
   ]
  },
  {
   "cell_type": "code",
   "execution_count": 255,
   "metadata": {
    "tags": []
   },
   "outputs": [
    {
     "data": {
      "text/plain": [
       "array([ 5.,  4.,  6.,  7.,  2.,  1., 10.,  3.,  9.,  8.])"
      ]
     },
     "execution_count": 255,
     "metadata": {},
     "output_type": "execute_result"
    }
   ],
   "source": [
    "# Find the unique values in greenhouse_gas_score for fuel_18_df\n",
    "fuel_18_df['greenhouse_gas_score']=fuel_18_df['greenhouse_gas_score'].astype('float64')\n",
    "fuel_18_df.greenhouse_gas_score.unique()"
   ]
  },
  {
   "cell_type": "markdown",
   "metadata": {},
   "source": [
    "Use the information from these cells to answer the fourth quiz question."
   ]
  },
  {
   "cell_type": "code",
   "execution_count": null,
   "metadata": {},
   "outputs": [],
   "source": []
  }
 ],
 "metadata": {
  "kernelspec": {
   "display_name": "Python 3 (ipykernel)",
   "language": "python",
   "name": "python3"
  },
  "language_info": {
   "codemirror_mode": {
    "name": "ipython",
    "version": 3
   },
   "file_extension": ".py",
   "mimetype": "text/x-python",
   "name": "python",
   "nbconvert_exporter": "python",
   "pygments_lexer": "ipython3",
   "version": "3.11.5"
  }
 },
 "nbformat": 4,
 "nbformat_minor": 4
}
