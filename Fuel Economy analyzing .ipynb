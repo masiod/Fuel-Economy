{
 "cells": [
  {
   "cell_type": "code",
   "execution_count": null,
   "id": "14476731",
   "metadata": {},
   "outputs": [],
   "source": [
    "#download data from https://www.fueleconomy.gov/feg/download.shtml/ then import it by pd\n",
    "#import it as CSV file \n",
    "import pandas as pd\n"
   ]
  }
 ],
 "metadata": {
  "kernelspec": {
   "display_name": "Python 3 (ipykernel)",
   "language": "python",
   "name": "python3"
  },
  "language_info": {
   "codemirror_mode": {
    "name": "ipython",
    "version": 3
   },
   "file_extension": ".py",
   "mimetype": "text/x-python",
   "name": "python",
   "nbconvert_exporter": "python",
   "pygments_lexer": "ipython3",
   "version": "3.9.13"
  }
 },
 "nbformat": 4,
 "nbformat_minor": 5
}
